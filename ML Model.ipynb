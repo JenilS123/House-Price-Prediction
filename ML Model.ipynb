{
 "cells": [
  {
   "cell_type": "markdown",
   "metadata": {
    "colab_type": "text",
    "id": "IpL5v1Sf3RWI"
   },
   "source": [
    "# Bangalore House Price Prediction - Outlier Detection"
   ]
  },
  {
   "cell_type": "code",
   "execution_count": null,
   "metadata": {
    "colab": {
     "base_uri": "https://localhost:8080/",
     "height": 71
    },
    "colab_type": "code",
    "executionInfo": {
     "elapsed": 2175,
     "status": "ok",
     "timestamp": 1593078487795,
     "user": {
      "displayName": "indian ai production",
      "photoUrl": "",
      "userId": "05336710603640792650"
     },
     "user_tz": -330
    },
    "id": "gOSX3Cyj3MMb",
    "outputId": "ce9f956d-30df-4c35-d70e-a9bc664bb2a8"
   },
   "outputs": [],
   "source": [
    "import numpy as np\n",
    "import pandas as pd\n",
    "import matplotlib.pyplot as plt\n",
    "import seaborn as sns"
   ]
  },
  {
   "cell_type": "code",
   "execution_count": null,
   "metadata": {
    "colab": {},
    "colab_type": "code",
    "executionInfo": {
     "elapsed": 3393,
     "status": "ok",
     "timestamp": 1593078489034,
     "user": {
      "displayName": "indian ai production",
      "photoUrl": "",
      "userId": "05336710603640792650"
     },
     "user_tz": -330
    },
    "id": "xRx0SRBGC54j"
   },
   "outputs": [],
   "source": [
    "pd.set_option(\"display.max_columns\", None)\n",
    "pd.set_option(\"display.max_rows\", None)"
   ]
  },
  {
   "cell_type": "code",
   "execution_count": null,
   "metadata": {
    "colab": {
     "base_uri": "https://localhost:8080/",
     "height": 34
    },
    "colab_type": "code",
    "executionInfo": {
     "elapsed": 3934,
     "status": "ok",
     "timestamp": 1593078489647,
     "user": {
      "displayName": "indian ai production",
      "photoUrl": "",
      "userId": "05336710603640792650"
     },
     "user_tz": -330
    },
    "id": "Gp8WO-ZhNc6w",
    "outputId": "54b49402-f5e1-4e5c-83d7-024916a9cca0",
    "scrolled": true
   },
   "outputs": [],
   "source": [
    "# Get clean data\n",
    "path = r\"data.csv\" \n",
    "\n",
    "df = pd.read_csv(path)\n",
    "df.shape"
   ]
  },
  {
   "cell_type": "code",
   "execution_count": null,
   "metadata": {
    "colab": {
     "base_uri": "https://localhost:8080/",
     "height": 258
    },
    "colab_type": "code",
    "executionInfo": {
     "elapsed": 3862,
     "status": "ok",
     "timestamp": 1593078489653,
     "user": {
      "displayName": "indian ai production",
      "photoUrl": "",
      "userId": "05336710603640792650"
     },
     "user_tz": -330
    },
    "id": "VFKjUlZtPQgS",
    "outputId": "0637f216-2a21-491b-f28d-fa5a70755b7c"
   },
   "outputs": [],
   "source": [
    "df.head()"
   ]
  },
  {
   "cell_type": "markdown",
   "metadata": {
    "colab_type": "text",
    "id": "axowdsatcJaQ"
   },
   "source": [
    "## Split Dataset in train and test"
   ]
  },
  {
   "cell_type": "code",
   "execution_count": null,
   "metadata": {
    "colab": {
     "base_uri": "https://localhost:8080/",
     "height": 51
    },
    "colab_type": "code",
    "executionInfo": {
     "elapsed": 3736,
     "status": "ok",
     "timestamp": 1593078489656,
     "user": {
      "displayName": "indian ai production",
      "photoUrl": "",
      "userId": "05336710603640792650"
     },
     "user_tz": -330
    },
    "id": "PU_DeM90b7As",
    "outputId": "bab4699a-6418-4af5-bfbe-69424bb17b8b"
   },
   "outputs": [],
   "source": [
    "X = df.drop(\"price\", axis=1)\n",
    "y = df['price']\n",
    "print('Shape of X = ', X.shape)\n",
    "print('Shape of y = ', y.shape)"
   ]
  },
  {
   "cell_type": "code",
   "execution_count": null,
   "metadata": {
    "colab": {
     "base_uri": "https://localhost:8080/",
     "height": 85
    },
    "colab_type": "code",
    "executionInfo": {
     "elapsed": 3693,
     "status": "ok",
     "timestamp": 1593078489657,
     "user": {
      "displayName": "indian ai production",
      "photoUrl": "",
      "userId": "05336710603640792650"
     },
     "user_tz": -330
    },
    "id": "aNVLPL-rcNwa",
    "outputId": "b24989dd-d514-407f-eae1-4f982084621a"
   },
   "outputs": [],
   "source": [
    "from sklearn.model_selection import train_test_split\n",
    "X_train, X_test, y_train, y_test = train_test_split(X, y, test_size = 0.2, random_state = 51)\n",
    "print('Shape of X_train = ', X_train.shape)\n",
    "print('Shape of y_train = ', y_train.shape)\n",
    "print('Shape of X_test = ', X_test.shape)\n",
    "print('Shape of y_test = ', y_test.shape)"
   ]
  },
  {
   "cell_type": "markdown",
   "metadata": {
    "colab_type": "text",
    "id": "Oh43OeUnfZAq"
   },
   "source": [
    "## Machine Learning Model Training"
   ]
  },
  {
   "cell_type": "markdown",
   "metadata": {
    "colab_type": "text",
    "id": "d9-YKvESfcmd"
   },
   "source": [
    "## Linear Regression"
   ]
  },
  {
   "cell_type": "code",
   "execution_count": null,
   "metadata": {
    "colab": {},
    "colab_type": "code",
    "executionInfo": {
     "elapsed": 4105,
     "status": "ok",
     "timestamp": 1593078490092,
     "user": {
      "displayName": "indian ai production",
      "photoUrl": "",
      "userId": "05336710603640792650"
     },
     "user_tz": -330
    },
    "id": "GfPL9vJLcfXr"
   },
   "outputs": [],
   "source": [
    "from sklearn.linear_model import LinearRegression\n",
    "from sklearn.linear_model import Lasso\n",
    "from sklearn.linear_model import Ridge\n",
    "from sklearn.metrics import mean_squared_error\n",
    "lr = LinearRegression()\n",
    "lr_lasso = Lasso()\n",
    "lr_ridge = Ridge()"
   ]
  },
  {
   "cell_type": "code",
   "execution_count": null,
   "metadata": {},
   "outputs": [],
   "source": [
    "def rmse(y_test, y_pred):\n",
    "  return np.sqrt(mean_squared_error(y_test, y_pred))"
   ]
  },
  {
   "cell_type": "code",
   "execution_count": null,
   "metadata": {
    "colab": {
     "base_uri": "https://localhost:8080/",
     "height": 34
    },
    "colab_type": "code",
    "executionInfo": {
     "elapsed": 4027,
     "status": "ok",
     "timestamp": 1593078490095,
     "user": {
      "displayName": "indian ai production",
      "photoUrl": "",
      "userId": "05336710603640792650"
     },
     "user_tz": -330
    },
    "id": "WYm8ArSoff1p",
    "outputId": "b315cac3-9809-467c-87f6-fb54f1e5918c"
   },
   "outputs": [],
   "source": [
    "# Linear Regression\n",
    "lr.fit(X_train, y_train)\n",
    "lr_score = lr.score(X_test, y_test)\n",
    "lr_rmse = rmse(y_test, lr.predict(X_test))\n",
    "lr_score, lr_rmse"
   ]
  },
  {
   "cell_type": "code",
   "execution_count": null,
   "metadata": {
    "colab": {
     "base_uri": "https://localhost:8080/",
     "height": 34
    },
    "colab_type": "code",
    "executionInfo": {
     "elapsed": 3988,
     "status": "ok",
     "timestamp": 1593078490096,
     "user": {
      "displayName": "indian ai production",
      "photoUrl": "",
      "userId": "05336710603640792650"
     },
     "user_tz": -330
    },
    "id": "sEhTsgE6fnXp",
    "outputId": "6170272d-4954-4045-e93f-49339b531559"
   },
   "outputs": [],
   "source": [
    "# Lasso \n",
    "lr_lasso.fit(X_train, y_train)\n",
    "lr_lasso_score=lr_lasso.score(X_test, y_test) \n",
    "lr_lasso_rmse = rmse(y_test, lr_lasso.predict(X_test))\n",
    "lr_lasso_score, lr_lasso_rmse"
   ]
  },
  {
   "cell_type": "code",
   "execution_count": null,
   "metadata": {},
   "outputs": [],
   "source": [
    "# Ridge\n",
    "lr_ridge.fit(X_train, y_train)\n",
    "lr_ridge_score = lr_ridge.score(X_test, y_test)\n",
    "lr_ridge_rmse = rmse(y_test,lr_ridge.predict(X_test))\n",
    "lr_lasso_score, lr_lasso_rmse"
   ]
  },
  {
   "cell_type": "markdown",
   "metadata": {
    "colab_type": "text",
    "id": "73sB16uxfwRm"
   },
   "source": [
    "## Support Vector Machine"
   ]
  },
  {
   "cell_type": "code",
   "execution_count": null,
   "metadata": {
    "colab": {
     "base_uri": "https://localhost:8080/",
     "height": 34
    },
    "colab_type": "code",
    "executionInfo": {
     "elapsed": 15003,
     "status": "ok",
     "timestamp": 1593078501154,
     "user": {
      "displayName": "indian ai production",
      "photoUrl": "",
      "userId": "05336710603640792650"
     },
     "user_tz": -330
    },
    "id": "aep38HxxfsbA",
    "outputId": "ecb5b52f-8743-46a6-ecfb-b69cd5e9d06f"
   },
   "outputs": [],
   "source": [
    "from sklearn.svm import SVR\n",
    "svr = SVR()\n",
    "svr.fit(X_train,y_train)\n",
    "svr_score=svr.score(X_test,y_test) \n",
    "svr_rmse = rmse(y_test, svr.predict(X_test))\n",
    "svr_score, svr_rmse"
   ]
  },
  {
   "cell_type": "markdown",
   "metadata": {
    "colab_type": "text",
    "id": "w9-nexcsf5G3"
   },
   "source": [
    "## Random Forest Regressor"
   ]
  },
  {
   "cell_type": "code",
   "execution_count": null,
   "metadata": {
    "colab": {
     "base_uri": "https://localhost:8080/",
     "height": 34
    },
    "colab_type": "code",
    "executionInfo": {
     "elapsed": 18171,
     "status": "ok",
     "timestamp": 1593078504362,
     "user": {
      "displayName": "indian ai production",
      "photoUrl": "",
      "userId": "05336710603640792650"
     },
     "user_tz": -330
    },
    "id": "ArlNrxFJf1ey",
    "outputId": "90487329-8ad6-4625-a01e-f915975ba241"
   },
   "outputs": [],
   "source": [
    "from sklearn.ensemble import RandomForestRegressor\n",
    "rfr = RandomForestRegressor()\n",
    "rfr.fit(X_train,y_train)\n",
    "rfr_score=rfr.score(X_test,y_test)\n",
    "rfr_rmse = rmse(y_test, rfr.predict(X_test))\n",
    "rfr_score, rfr_rmse"
   ]
  },
  {
   "cell_type": "code",
   "execution_count": null,
   "metadata": {},
   "outputs": [],
   "source": [
    "\"\"\"## Test Model\"\"\"\n",
    " \n",
    "list(X.columns)\n",
    " \n",
    "# it help to get predicted value of hosue  by providing features value \n",
    "def predict_house_price(model,bath,balcony,total_sqft_int,bhk,price_per_sqft,area_type,location):\n",
    " \n",
    "  x =np.zeros(len(X.columns)) # create zero numpy array, len = 107 as input value for model\n",
    " \n",
    "  # adding feature's value accorind to their column index\n",
    "  x[0]=bath\n",
    "  x[1]=balcony\n",
    "  x[2]=total_sqft_int\n",
    "  x[3]=bhk\n",
    "  x[4]=price_per_sqft\n",
    " \n",
    "\n",
    "  if 'area_type'+area_type in X.columns:\n",
    "    area_type_index = np.where(X.columns==\"area_type\"+area_type)[0][0]\n",
    "    x[area_type_index] =1\n",
    " \n",
    "    #print(area_type_index)\n",
    " \n",
    "  if 'location_'+location in X.columns:\n",
    "    loc_index = np.where(X.columns==\"location_\"+location)[0][0]\n",
    "    x[loc_index] =1\n",
    " \n",
    "    #print(loc_index)\n",
    " \n",
    "  #print(x)\n",
    " \n",
    " \n",
    " \n",
    "  return model.predict([x])[0] "
   ]
  },
  {
   "cell_type": "code",
   "execution_count": null,
   "metadata": {
    "colab": {
     "base_uri": "https://localhost:8080/",
     "height": 34
    },
    "colab_type": "code",
    "executionInfo": {
     "elapsed": 60119,
     "status": "ok",
     "timestamp": 1593078546864,
     "user": {
      "displayName": "indian ai production",
      "photoUrl": "",
      "userId": "05336710603640792650"
     },
     "user_tz": -330
    },
    "id": "cP2-LZ41GVd2",
    "outputId": "72f70f40-5466-4fe8-a27f-7d240df93a6f"
   },
   "outputs": [],
   "source": [
    "predict_house_price(model=rfr, bath=3,balcony=2,total_sqft_int=1672,bhk=3,price_per_sqft=8971.291866\n",
    "                    ,area_type=\"Plot  Area\",location=\"Devarabeesana Halli\")"
   ]
  },
  {
   "cell_type": "code",
   "execution_count": null,
   "metadata": {
    "colab": {
     "base_uri": "https://localhost:8080/",
     "height": 34
    },
    "colab_type": "code",
    "executionInfo": {
     "elapsed": 60083,
     "status": "ok",
     "timestamp": 1593078546865,
     "user": {
      "displayName": "indian ai production",
      "photoUrl": "",
      "userId": "05336710603640792650"
     },
     "user_tz": -330
    },
    "id": "FT6oIIPlHRmx",
    "outputId": "17191715-4f18-44d5-82fe-4d26df101715"
   },
   "outputs": [],
   "source": [
    "##test sample\n",
    "#area_type\tavailability\tlocation\tbath\tbalcony\tprice\ttotal_sqft_int\tbhk\tprice_per_sqft\n",
    "#2\tSuper built-up Area\t\tDevarabeesana Halli\t3.0\t2.0\t150.0\t1750.0\t3\t8571.428571\n",
    "\n",
    "predict_house_price(model=rfr, bath=3,balcony=2,total_sqft_int=1750,bhk=3,price_per_sqft=8571.428571,\n",
    "                    area_type=\"Super built-up\",location=\"Devarabeesana Halli\")"
   ]
  },
  {
   "cell_type": "code",
   "execution_count": null,
   "metadata": {
    "colab": {
     "base_uri": "https://localhost:8080/",
     "height": 34
    },
    "colab_type": "code",
    "executionInfo": {
     "elapsed": 60050,
     "status": "ok",
     "timestamp": 1593078546866,
     "user": {
      "displayName": "indian ai production",
      "photoUrl": "",
      "userId": "05336710603640792650"
     },
     "user_tz": -330
    },
    "id": "TXG6GFOxGw6w",
    "outputId": "1920210b-706b-4f61-8597-1ac5712413f1"
   },
   "outputs": [],
   "source": [
    "##test sample\n",
    "#area_type\tlocation\tbath\tbalcony\tprice\ttotal_sqft_int\tbhk\tprice_per_sqft\n",
    "#1\tBuilt-up Area\tDevarabeesana Halli\t3.0\t3.0\t149.0\t1750.0\t3\t8514.285714\n",
    "predict_house_price(model=rfr,bath=3,balcony=3,total_sqft_int=1750,bhk=3,price_per_sqft=8514.285714,\n",
    "                    area_type=\"Built-up Area\",location=\"Devarabeesana Halli\")"
   ]
  }
 ],
 "metadata": {
  "colab": {
   "authorship_tag": "ABX9TyOIYud2QNDIWB2Xh7v9T1ww",
   "collapsed_sections": [
    "Oh43OeUnfZAq"
   ],
   "mount_file_id": "1IRlN0K3-yqqkzos3SUKgVyiHjJOBxQtG",
   "name": "Copy of ML2 Model-bangalore_house_price_prediction.ipynb",
   "provenance": []
  },
  "kernelspec": {
   "display_name": "Python 3 (ipykernel)",
   "language": "python",
   "name": "python3"
  },
  "language_info": {
   "codemirror_mode": {
    "name": "ipython",
    "version": 3
   },
   "file_extension": ".py",
   "mimetype": "text/x-python",
   "name": "python",
   "nbconvert_exporter": "python",
   "pygments_lexer": "ipython3",
   "version": "3.12.1"
  }
 },
 "nbformat": 4,
 "nbformat_minor": 4
}
