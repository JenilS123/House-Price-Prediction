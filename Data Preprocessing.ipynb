{
 "cells": [
  {
   "cell_type": "markdown",
   "metadata": {},
   "source": [
    "# Bangalore House Price Prediction - Supervised Regression Problem"
   ]
  },
  {
   "cell_type": "markdown",
   "metadata": {
    "colab_type": "text",
    "id": "oDZT1ynvSRfY"
   },
   "source": [
    "# Import Libraries"
   ]
  },
  {
   "cell_type": "code",
   "execution_count": null,
   "metadata": {
    "colab": {
     "base_uri": "https://localhost:8080/",
     "height": 71
    },
    "colab_type": "code",
    "executionInfo": {
     "elapsed": 7790,
     "status": "ok",
     "timestamp": 1593086701782,
     "user": {
      "displayName": "indian ai production",
      "photoUrl": "",
      "userId": "05336710603640792650"
     },
     "user_tz": -330
    },
    "id": "OkPXjMyZQ-Q0",
    "outputId": "504edb5d-31fd-4107-8154-ef3274c5c0e5"
   },
   "outputs": [],
   "source": [
    "import numpy as np\n",
    "import pandas as pd\n",
    "import matplotlib.pyplot as plt\n",
    "import seaborn as sns"
   ]
  },
  {
   "cell_type": "code",
   "execution_count": null,
   "metadata": {
    "colab": {
     "base_uri": "https://localhost:8080/",
     "height": 34
    },
    "colab_type": "code",
    "executionInfo": {
     "elapsed": 7729,
     "status": "ok",
     "timestamp": 1593086701784,
     "user": {
      "displayName": "indian ai production",
      "photoUrl": "",
      "userId": "05336710603640792650"
     },
     "user_tz": -330
    },
    "id": "ZhD-jJYtSVkh",
    "outputId": "f970f71e-3c5d-42e9-c18a-3dbe558ab7fb"
   },
   "outputs": [],
   "source": [
    "path = r\"Bangalore house data.csv\"\n",
    "df= pd.read_csv(path)\n",
    "df.shape"
   ]
  },
  {
   "cell_type": "markdown",
   "metadata": {},
   "source": [
    "\n",
    "# Exploratory Data Analysis"
   ]
  },
  {
   "cell_type": "code",
   "execution_count": null,
   "metadata": {
    "colab": {
     "base_uri": "https://localhost:8080/",
     "height": 289
    },
    "colab_type": "code",
    "executionInfo": {
     "elapsed": 6147,
     "status": "ok",
     "timestamp": 1593086701795,
     "user": {
      "displayName": "indian ai production",
      "photoUrl": "",
      "userId": "05336710603640792650"
     },
     "user_tz": -330
    },
    "id": "r37N_FTKdO5o",
    "outputId": "8f7caf5f-b9cd-4bef-a13d-b0cfc02688ab"
   },
   "outputs": [],
   "source": [
    "# get the information of data\n",
    "df.info()"
   ]
  },
  {
   "cell_type": "code",
   "execution_count": null,
   "metadata": {
    "colab": {},
    "colab_type": "code",
    "id": "nwTvqKFVdm_g"
   },
   "outputs": [],
   "source": [
    "# We have only 3 neumerical features - bath, balcony and price\n",
    "# 4 categorical features - area type, size, society, and total_srft\n",
    "# Target Feature =======>>>>>> price >>>>>>\n",
    "# Price in lakh"
   ]
  },
  {
   "cell_type": "code",
   "execution_count": null,
   "metadata": {
    "colab": {
     "base_uri": "https://localhost:8080/",
     "height": 297
    },
    "colab_type": "code",
    "executionInfo": {
     "elapsed": 6003,
     "status": "ok",
     "timestamp": 1593086701798,
     "user": {
      "displayName": "indian ai production",
      "photoUrl": "",
      "userId": "05336710603640792650"
     },
     "user_tz": -330
    },
    "id": "T6h2p8PsdrEa",
    "outputId": "2a7b5321-4ed7-4270-feaf-bdcd26c7340e"
   },
   "outputs": [],
   "source": [
    "df.describe()\n",
    "#observe 75% and max value it shows huge diff"
   ]
  },
  {
   "cell_type": "code",
   "execution_count": null,
   "metadata": {
    "colab": {
     "base_uri": "https://localhost:8080/",
     "height": 584
    },
    "colab_type": "code",
    "executionInfo": {
     "elapsed": 9639,
     "status": "ok",
     "timestamp": 1593086705507,
     "user": {
      "displayName": "indian ai production",
      "photoUrl": "",
      "userId": "05336710603640792650"
     },
     "user_tz": -330
    },
    "id": "ZSPkjZdwdsrv",
    "outputId": "c8a2214d-c11f-40cb-a2da-776b24df2780"
   },
   "outputs": [],
   "source": [
    "sns.pairplot(df)\n",
    "\n",
    "# bath and price have slightly linear correlation with some outliers"
   ]
  },
  {
   "cell_type": "code",
   "execution_count": null,
   "metadata": {
    "colab": {},
    "colab_type": "code",
    "id": "FzagHR78eQOJ"
   },
   "outputs": [],
   "source": [
    "# value count of each feature\n",
    "def value_count(df):\n",
    "  for var in df.columns:\n",
    "    print(df[var].value_counts())\n",
    "    print(\"--------------------------------\")"
   ]
  },
  {
   "cell_type": "code",
   "execution_count": null,
   "metadata": {
    "colab": {
     "base_uri": "https://localhost:8080/",
     "height": 1000
    },
    "colab_type": "code",
    "executionInfo": {
     "elapsed": 9577,
     "status": "ok",
     "timestamp": 1593086705513,
     "user": {
      "displayName": "indian ai production",
      "photoUrl": "",
      "userId": "05336710603640792650"
     },
     "user_tz": -330
    },
    "id": "xbC1B74cenAm",
    "outputId": "63083a00-46a3-442e-ed10-fe107e02aca2"
   },
   "outputs": [],
   "source": [
    "value_count(df)"
   ]
  },
  {
   "cell_type": "code",
   "execution_count": null,
   "metadata": {
    "colab": {
     "base_uri": "https://localhost:8080/",
     "height": 286
    },
    "colab_type": "code",
    "executionInfo": {
     "elapsed": 9532,
     "status": "ok",
     "timestamp": 1593086705515,
     "user": {
      "displayName": "indian ai production",
      "photoUrl": "",
      "userId": "05336710603640792650"
     },
     "user_tz": -330
    },
    "id": "hR4eve8ye10G",
    "outputId": "98e5c60b-fa92-40b7-b77c-5d73a980b28c"
   },
   "outputs": [],
   "source": [
    "# correlation heatmap\n",
    "num_vars = [\"bath\", \"balcony\", \"price\"]\n",
    "sns.heatmap(df[num_vars].corr(),cmap=\"coolwarm\", annot=True)\n",
    "\n",
    "# correlation of bath is greater than a balcony with price"
   ]
  },
  {
   "cell_type": "markdown",
   "metadata": {
    "colab_type": "text",
    "id": "J_NF04EUfggt"
   },
   "source": [
    "## Data cleaning"
   ]
  },
  {
   "cell_type": "code",
   "execution_count": null,
   "metadata": {
    "colab": {
     "base_uri": "https://localhost:8080/"
    },
    "colab_type": "code",
    "executionInfo": {
     "elapsed": 9496,
     "status": "ok",
     "timestamp": 1593086705516,
     "user": {
      "displayName": "indian ai production",
      "photoUrl": "",
      "userId": "05336710603640792650"
     },
     "user_tz": -330
    },
    "id": "P8RwWrote8Qf",
    "outputId": "ee6a4aec-52ef-4985-fc5a-e608671e7218"
   },
   "outputs": [],
   "source": [
    "df.isnull().sum() # find the howmuch missing data available"
   ]
  },
  {
   "cell_type": "code",
   "execution_count": null,
   "metadata": {
    "colab": {
     "base_uri": "https://localhost:8080/"
    },
    "colab_type": "code",
    "executionInfo": {
     "elapsed": 9481,
     "status": "ok",
     "timestamp": 1593086705518,
     "user": {
      "displayName": "indian ai production",
      "photoUrl": "",
      "userId": "05336710603640792650"
     },
     "user_tz": -330
    },
    "id": "wdrarSAEfnNz",
    "outputId": "b60a8237-98d0-4e3b-f3d7-a71d1b625a95"
   },
   "outputs": [],
   "source": [
    "df.isnull().mean()*100 # % of measing value\n",
    "\n",
    "#society has 41.3% missing value (need to drop)"
   ]
  },
  {
   "cell_type": "code",
   "execution_count": null,
   "metadata": {
    "colab": {
     "base_uri": "https://localhost:8080/"
    },
    "colab_type": "code",
    "executionInfo": {
     "elapsed": 11905,
     "status": "ok",
     "timestamp": 1593086707960,
     "user": {
      "displayName": "indian ai production",
      "photoUrl": "",
      "userId": "05336710603640792650"
     },
     "user_tz": -330
    },
    "id": "VSGHH8hVfrAQ",
    "outputId": "5b3c3056-e4a3-4081-c72d-c74b3e7c7a29"
   },
   "outputs": [],
   "source": [
    "# visualize missing value using heatmap to get idea where is the value missing\n",
    "\n",
    "# plt.figure(figsize=(16,9))\n",
    "sns.heatmap(df.isnull())"
   ]
  },
  {
   "cell_type": "code",
   "execution_count": null,
   "metadata": {
    "colab": {
     "base_uri": "https://localhost:8080/"
    },
    "colab_type": "code",
    "executionInfo": {
     "elapsed": 11889,
     "status": "ok",
     "timestamp": 1593086707962,
     "user": {
      "displayName": "indian ai production",
      "photoUrl": "",
      "userId": "05336710603640792650"
     },
     "user_tz": -330
    },
    "id": "Azmc5V29f-w3",
    "outputId": "9e04fb7b-e12a-4d25-da49-74759f81207c"
   },
   "outputs": [],
   "source": [
    "# Drop ----------> society feature\n",
    "# because 41.3% missing value\n",
    "df2 = df.drop('society', axis='columns')\n",
    "df2.shape"
   ]
  },
  {
   "cell_type": "code",
   "execution_count": null,
   "metadata": {},
   "outputs": [],
   "source": [
    "df2.isnull().sum()"
   ]
  },
  {
   "cell_type": "code",
   "execution_count": null,
   "metadata": {
    "colab": {
     "base_uri": "https://localhost:8080/"
    },
    "colab_type": "code",
    "executionInfo": {
     "elapsed": 11869,
     "status": "ok",
     "timestamp": 1593086707964,
     "user": {
      "displayName": "indian ai production",
      "photoUrl": "",
      "userId": "05336710603640792650"
     },
     "user_tz": -330
    },
    "id": "nn9Sh3VugR9t",
    "outputId": "696e1a27-acaa-488d-8cad-571563035b64"
   },
   "outputs": [],
   "source": [
    "# fill mean value in --------> balcony feature\n",
    "# because it contain 4.5% missing value\n",
    "df2['balcony'] = df2['balcony'].fillna(df2['balcony'].mean())\n",
    "df2.isnull().sum()"
   ]
  },
  {
   "cell_type": "code",
   "execution_count": null,
   "metadata": {
    "colab": {
     "base_uri": "https://localhost:8080/"
    },
    "colab_type": "code",
    "executionInfo": {
     "elapsed": 11849,
     "status": "ok",
     "timestamp": 1593086707965,
     "user": {
      "displayName": "indian ai production",
      "photoUrl": "",
      "userId": "05336710603640792650"
     },
     "user_tz": -330
    },
    "id": "Nk-GK233glrd",
    "outputId": "e8d117fa-5919-4505-ec79-79be34c3caae"
   },
   "outputs": [],
   "source": [
    "# drop na value rows from df2\n",
    "# because there is very less % value missing\n",
    "df3 = df2.dropna()\n",
    "df3.shape"
   ]
  },
  {
   "cell_type": "code",
   "execution_count": null,
   "metadata": {
    "colab": {
     "base_uri": "https://localhost:8080/"
    },
    "colab_type": "code",
    "executionInfo": {
     "elapsed": 11822,
     "status": "ok",
     "timestamp": 1593086707966,
     "user": {
      "displayName": "indian ai production",
      "photoUrl": "",
      "userId": "05336710603640792650"
     },
     "user_tz": -330
    },
    "id": "Lc9HQAZGhZBt",
    "outputId": "c93a9a4f-6695-48d2-fc2b-b14842509978"
   },
   "outputs": [],
   "source": [
    "df3.isnull().sum()"
   ]
  },
  {
   "cell_type": "code",
   "execution_count": null,
   "metadata": {
    "colab": {
     "base_uri": "https://localhost:8080/"
    },
    "colab_type": "code",
    "executionInfo": {
     "elapsed": 11798,
     "status": "ok",
     "timestamp": 1593086707967,
     "user": {
      "displayName": "indian ai production",
      "photoUrl": "",
      "userId": "05336710603640792650"
     },
     "user_tz": -330
    },
    "id": "Ih3NqEDDhbfF",
    "outputId": "42c60a91-0b8a-442a-ef3a-d23fd57bef36"
   },
   "outputs": [],
   "source": [
    "df3.head()"
   ]
  },
  {
   "cell_type": "code",
   "execution_count": null,
   "metadata": {},
   "outputs": [],
   "source": [
    "df3.info()"
   ]
  },
  {
   "cell_type": "markdown",
   "metadata": {
    "colab_type": "text",
    "id": "WM_tZEv8hn0T"
   },
   "source": [
    "## Feature Engineering"
   ]
  },
  {
   "cell_type": "code",
   "execution_count": null,
   "metadata": {
    "colab": {},
    "colab_type": "code",
    "id": "x9pqpwGohjnU"
   },
   "outputs": [],
   "source": [
    "# to show all th ecolumns and rows\n",
    "pd.set_option(\"display.max_columns\", None)\n",
    "pd.set_option(\"display.max_rows\", None)"
   ]
  },
  {
   "cell_type": "markdown",
   "metadata": {
    "colab_type": "text",
    "id": "re24TUzKhziC"
   },
   "source": [
    "### Converting 'total_sqft' cat feature in numeric"
   ]
  },
  {
   "cell_type": "code",
   "execution_count": null,
   "metadata": {
    "colab": {
     "base_uri": "https://localhost:8080/"
    },
    "colab_type": "code",
    "executionInfo": {
     "elapsed": 11761,
     "status": "ok",
     "timestamp": 1593086707970,
     "user": {
      "displayName": "indian ai production",
      "photoUrl": "",
      "userId": "05336710603640792650"
     },
     "user_tz": -330
    },
    "id": "OEP9sAsMhv7c",
    "outputId": "aa6bc91d-57dd-486b-be29-ead553902c0b"
   },
   "outputs": [],
   "source": [
    "df3['total_sqft'].value_counts()\n",
    "\n",
    "# here we observe that 'total_sqft' contain string value in diff format\n",
    "#float, int like value 1689.28,817 \n",
    "# range value: 540 - 740 \n",
    "# number and string: 142.84Sq. Meter, 117Sq. Yards, 1Grounds\n",
    "\n",
    "# best strategy is to convert it into number by spliting it"
   ]
  },
  {
   "cell_type": "code",
   "execution_count": null,
   "metadata": {
    "colab": {},
    "colab_type": "code",
    "id": "rxMYQnljjFk1"
   },
   "outputs": [],
   "source": [
    "total_sqft_int = []\n",
    "for str_val in df3['total_sqft']:\n",
    "  try:\n",
    "    total_sqft_int.append(float(str_val)) \n",
    "                    # if '123.4' like this value in str then conver in float\n",
    "  except:\n",
    "    try:\n",
    "      temp = []\n",
    "      temp = str_val.split('-')\n",
    "      total_sqft_int.append((float(temp[0])+float(temp[-1]))/2)\n",
    "                    # '123 - 534' this str value split and take mean\n",
    "    except:\n",
    "      total_sqft_int.append(np.nan) \n",
    "                    # if value not contain in above format then consider as nan"
   ]
  },
  {
   "cell_type": "code",
   "execution_count": null,
   "metadata": {
    "colab": {},
    "colab_type": "code",
    "id": "cAR7V6RekTZ7"
   },
   "outputs": [],
   "source": [
    "# reset the index of dataframe\n",
    "df4 = df3.reset_index(drop=True) # drop=True - don't add index column in df"
   ]
  },
  {
   "cell_type": "code",
   "execution_count": null,
   "metadata": {
    "colab": {
     "base_uri": "https://localhost:8080/"
    },
    "colab_type": "code",
    "executionInfo": {
     "elapsed": 11689,
     "status": "ok",
     "timestamp": 1593086707973,
     "user": {
      "displayName": "indian ai production",
      "photoUrl": "",
      "userId": "05336710603640792650"
     },
     "user_tz": -330
    },
    "id": "lnRJIGOukeet",
    "outputId": "73c10884-ae53-4f46-ecf9-67e1ff403640"
   },
   "outputs": [],
   "source": [
    "# join df4 and total_srft_int list\n",
    "df5 = df4.join(pd.DataFrame({'total_sqft_int':total_sqft_int}))\n",
    "df5.head()"
   ]
  },
  {
   "cell_type": "code",
   "execution_count": null,
   "metadata": {
    "colab": {
     "base_uri": "https://localhost:8080/"
    },
    "colab_type": "code",
    "executionInfo": {
     "elapsed": 11653,
     "status": "ok",
     "timestamp": 1593086707976,
     "user": {
      "displayName": "indian ai production",
      "photoUrl": "",
      "userId": "05336710603640792650"
     },
     "user_tz": -330
    },
    "id": "YiS81zx5k--n",
    "outputId": "94c73315-df5c-4ba2-b996-489cec9ecc1c"
   },
   "outputs": [],
   "source": [
    "df5.isnull().sum()"
   ]
  },
  {
   "cell_type": "code",
   "execution_count": null,
   "metadata": {
    "colab": {
     "base_uri": "https://localhost:8080/"
    },
    "colab_type": "code",
    "executionInfo": {
     "elapsed": 11630,
     "status": "ok",
     "timestamp": 1593086707977,
     "user": {
      "displayName": "indian ai production",
      "photoUrl": "",
      "userId": "05336710603640792650"
     },
     "user_tz": -330
    },
    "id": "Xregleu_lGoj",
    "outputId": "33f9def9-f249-4921-a16f-eddece056101"
   },
   "outputs": [],
   "source": [
    "# drop na value\n",
    "df6 = df5.dropna()\n",
    "df6.shape"
   ]
  },
  {
   "cell_type": "code",
   "execution_count": null,
   "metadata": {
    "colab": {
     "base_uri": "https://localhost:8080/"
    },
    "colab_type": "code",
    "executionInfo": {
     "elapsed": 11608,
     "status": "ok",
     "timestamp": 1593086707978,
     "user": {
      "displayName": "indian ai production",
      "photoUrl": "",
      "userId": "05336710603640792650"
     },
     "user_tz": -330
    },
    "id": "tchjeGPmlPiS",
    "outputId": "452c9179-8787-4b86-b77f-abe3f97dd74e"
   },
   "outputs": [],
   "source": [
    "df6.info()"
   ]
  },
  {
   "cell_type": "markdown",
   "metadata": {
    "colab_type": "text",
    "id": "0mX13Sa0lpdG"
   },
   "source": [
    "## Working on <<<< Size >>>> feature"
   ]
  },
  {
   "cell_type": "code",
   "execution_count": null,
   "metadata": {
    "colab": {
     "base_uri": "https://localhost:8080/"
    },
    "colab_type": "code",
    "executionInfo": {
     "elapsed": 11588,
     "status": "ok",
     "timestamp": 1593086707979,
     "user": {
      "displayName": "indian ai production",
      "photoUrl": "",
      "userId": "05336710603640792650"
     },
     "user_tz": -330
    },
    "id": "U5xvFlo_ld8s",
    "outputId": "72042053-b624-4a67-8bce-a5f4b80ef3e2"
   },
   "outputs": [],
   "source": [
    "df6['size'].value_counts()\n",
    "\n",
    "# size feature shows the number of rooms "
   ]
  },
  {
   "cell_type": "code",
   "execution_count": null,
   "metadata": {
    "colab": {},
    "colab_type": "code",
    "id": "KkTvN3jVlv7p"
   },
   "outputs": [],
   "source": [
    "\"\"\"\n",
    "in  size feature we assume that \n",
    "2 BHK = 2 Bedroom == 2 RK\n",
    "so takes only number and remove sufix text\n",
    "\"\"\"\n",
    "size_int = []\n",
    "for str_val in df6['size']:\n",
    "  temp=[]\n",
    "  temp = str_val.split(\" \")\n",
    "  try:\n",
    "    size_int.append(int(temp[0]))\n",
    "  except:\n",
    "    size_int.append(np.nan)\n",
    "    print(\"Noice = \",str_val)"
   ]
  },
  {
   "cell_type": "code",
   "execution_count": null,
   "metadata": {
    "colab": {},
    "colab_type": "code",
    "id": "AsPiyp8HmUhA"
   },
   "outputs": [],
   "source": [
    "df6 = df6.reset_index(drop=True)"
   ]
  },
  {
   "cell_type": "code",
   "execution_count": null,
   "metadata": {
    "colab": {
     "base_uri": "https://localhost:8080/"
    },
    "colab_type": "code",
    "executionInfo": {
     "elapsed": 11538,
     "status": "ok",
     "timestamp": 1593086707983,
     "user": {
      "displayName": "indian ai production",
      "photoUrl": "",
      "userId": "05336710603640792650"
     },
     "user_tz": -330
    },
    "id": "-ig3eCT8myqg",
    "outputId": "9d2d5d84-fb05-42db-d020-37e199ecfee9"
   },
   "outputs": [],
   "source": [
    "# join df6 and list size_int\n",
    "df7 = df6.join(pd.DataFrame({'bhk':size_int}))\n",
    "df7.shape"
   ]
  },
  {
   "cell_type": "code",
   "execution_count": null,
   "metadata": {
    "colab": {
     "base_uri": "https://localhost:8080/"
    },
    "colab_type": "code",
    "executionInfo": {
     "elapsed": 11513,
     "status": "ok",
     "timestamp": 1593086707984,
     "user": {
      "displayName": "indian ai production",
      "photoUrl": "",
      "userId": "05336710603640792650"
     },
     "user_tz": -330
    },
    "id": "91metB4mm0tJ",
    "outputId": "9ab9aa53-9c9c-48a3-a4d8-efc79705cf0c"
   },
   "outputs": [],
   "source": [
    "df7.tail()"
   ]
  },
  {
   "cell_type": "code",
   "execution_count": null,
   "metadata": {
    "colab": {
     "base_uri": "https://localhost:8080/"
    },
    "colab_type": "code",
    "executionInfo": {
     "elapsed": 13684,
     "status": "ok",
     "timestamp": 1593086710218,
     "user": {
      "displayName": "indian ai production",
      "photoUrl": "",
      "userId": "05336710603640792650"
     },
     "user_tz": -330
    },
    "id": "EpcfW0zGsFDr",
    "outputId": "b66c1677-c7cb-42e8-84e2-c52bccf40da8"
   },
   "outputs": [],
   "source": [
    "# here we consider  1 BHK requierd min 350 sqft are\n",
    "df7[df7['total_sqft_int']/df7['bhk'] < 350]\n"
   ]
  },
  {
   "cell_type": "code",
   "execution_count": null,
   "metadata": {
    "colab": {
     "base_uri": "https://localhost:8080/"
    },
    "colab_type": "code",
    "executionInfo": {
     "elapsed": 13621,
     "status": "ok",
     "timestamp": 1593086710220,
     "user": {
      "displayName": "indian ai production",
      "photoUrl": "",
      "userId": "05336710603640792650"
     },
     "user_tz": -330
    },
    "id": "_KML6BbAuBhy",
    "outputId": "a57a5905-a664-4de7-f7f1-c25f30c270d5"
   },
   "outputs": [],
   "source": [
    "# if 1 BHK total_sqft are < 350 then we ae going to remove them\n",
    "df8 = df7[~(df7['total_sqft_int']/df7['bhk'] < 350)]\n",
    "df8.shape"
   ]
  },
  {
   "cell_type": "code",
   "execution_count": null,
   "metadata": {
    "colab": {
     "base_uri": "https://localhost:8080/"
    },
    "colab_type": "code",
    "executionInfo": {
     "elapsed": 13597,
     "status": "ok",
     "timestamp": 1593086710222,
     "user": {
      "displayName": "indian ai production",
      "photoUrl": "",
      "userId": "05336710603640792650"
     },
     "user_tz": -330
    },
    "id": "Ub6uPFN4ux_2",
    "outputId": "2b950738-1f8e-438d-e48c-c32a013d42ef"
   },
   "outputs": [],
   "source": [
    "# create new feature that is price per squre foot \n",
    "\n",
    "#price in lakh so conver into rupee and then / by total_sqft_int\n",
    "df8['price_per_sqft'] = df8['price']*100000 / df8['total_sqft_int']  \n",
    "df8.head()"
   ]
  },
  {
   "cell_type": "code",
   "execution_count": null,
   "metadata": {
    "colab": {
     "base_uri": "https://localhost:8080/"
    },
    "colab_type": "code",
    "executionInfo": {
     "elapsed": 13572,
     "status": "ok",
     "timestamp": 1593086710223,
     "user": {
      "displayName": "indian ai production",
      "photoUrl": "",
      "userId": "05336710603640792650"
     },
     "user_tz": -330
    },
    "id": "sGJwRpkNvFB7",
    "outputId": "355c58b9-432a-4d8c-e566-2d74a588ea2d"
   },
   "outputs": [],
   "source": [
    "df8.price_per_sqft.describe()\n",
    "\n",
    "#here we can see huge difference between min and max price_per_sqft"
   ]
  },
  {
   "cell_type": "markdown",
   "metadata": {},
   "source": [
    "# Working on <<<< Bath >>>> feature"
   ]
  },
  {
   "cell_type": "code",
   "execution_count": null,
   "metadata": {
    "colab": {
     "base_uri": "https://localhost:8080/"
    },
    "colab_type": "code",
    "executionInfo": {
     "elapsed": 19692,
     "status": "ok",
     "timestamp": 1593086716464,
     "user": {
      "displayName": "indian ai production",
      "photoUrl": "",
      "userId": "05336710603640792650"
     },
     "user_tz": -330
    },
    "id": "8sdFD1NZ0H4t",
    "outputId": "8db71e36-bba8-449e-ad88-5be8a92d934e"
   },
   "outputs": [],
   "source": [
    "df8.bath.unique()"
   ]
  },
  {
   "cell_type": "code",
   "execution_count": null,
   "metadata": {
    "colab": {
     "base_uri": "https://localhost:8080/"
    },
    "colab_type": "code",
    "executionInfo": {
     "elapsed": 19674,
     "status": "ok",
     "timestamp": 1593086716468,
     "user": {
      "displayName": "indian ai production",
      "photoUrl": "",
      "userId": "05336710603640792650"
     },
     "user_tz": -330
    },
    "id": "2eUHdFGs0p_Q",
    "outputId": "2012835e-2d35-484d-c400-ab7c5f14a202"
   },
   "outputs": [],
   "source": [
    "df8[df8.bath > df8.bhk+2]"
   ]
  },
  {
   "cell_type": "code",
   "execution_count": null,
   "metadata": {
    "colab": {
     "base_uri": "https://localhost:8080/"
    },
    "colab_type": "code",
    "executionInfo": {
     "elapsed": 19659,
     "status": "ok",
     "timestamp": 1593086716469,
     "user": {
      "displayName": "indian ai production",
      "photoUrl": "",
      "userId": "05336710603640792650"
     },
     "user_tz": -330
    },
    "id": "nrpCKw3Q03fG",
    "outputId": "97662a9f-c2e2-44c7-c034-d7b4ab276f2c"
   },
   "outputs": [],
   "source": [
    "# here we are considering data only total no. bathroom =  bhk + 1\n",
    "df9 = df8[df8.bath < df8.bhk+2]\n",
    "df9.shape"
   ]
  },
  {
   "cell_type": "code",
   "execution_count": null,
   "metadata": {
    "colab": {
     "base_uri": "https://localhost:8080/"
    },
    "colab_type": "code",
    "executionInfo": {
     "elapsed": 20329,
     "status": "ok",
     "timestamp": 1593086717176,
     "user": {
      "displayName": "indian ai production",
      "photoUrl": "",
      "userId": "05336710603640792650"
     },
     "user_tz": -330
    },
    "id": "JMVuL-QJ2cxm",
    "outputId": "ab636060-dc23-4b26-9ffb-f32b72e86270"
   },
   "outputs": [],
   "source": [
    "df9.head()"
   ]
  },
  {
   "cell_type": "markdown",
   "metadata": {
    "colab_type": "text",
    "id": "NAh4f1vajG-5"
   },
   "source": [
    "# Categorical Variable Encoding"
   ]
  },
  {
   "cell_type": "code",
   "execution_count": null,
   "metadata": {
    "colab": {
     "base_uri": "https://localhost:8080/",
     "height": 204
    },
    "colab_type": "code",
    "executionInfo": {
     "elapsed": 20273,
     "status": "ok",
     "timestamp": 1593086717180,
     "user": {
      "displayName": "indian ai production",
      "photoUrl": "",
      "userId": "05336710603640792650"
     },
     "user_tz": -330
    },
    "id": "KgZ2QPkQ4F_3",
    "outputId": "5927e9d4-3ed1-45b7-d16d-7f83b90a5c25"
   },
   "outputs": [],
   "source": [
    "df10 = df9.drop([\"size\",\"total_sqft\"], axis =1)\n",
    "df10.head()"
   ]
  },
  {
   "cell_type": "code",
   "execution_count": null,
   "metadata": {},
   "outputs": [],
   "source": [
    "df10.info()"
   ]
  },
  {
   "cell_type": "markdown",
   "metadata": {
    "colab_type": "text",
    "id": "fcEZKmuBaF6a"
   },
   "source": [
    "## Working on <<<<<< area_type >>>>> feature"
   ]
  },
  {
   "cell_type": "code",
   "execution_count": null,
   "metadata": {
    "colab": {
     "base_uri": "https://localhost:8080/"
    },
    "colab_type": "code",
    "executionInfo": {
     "elapsed": 21349,
     "status": "ok",
     "timestamp": 1593086718436,
     "user": {
      "displayName": "indian ai production",
      "photoUrl": "",
      "userId": "05336710603640792650"
     },
     "user_tz": -330
    },
    "id": "enSMW-udlY6h",
    "outputId": "000780f9-60a6-451b-eb9c-36fe6cc1dda0"
   },
   "outputs": [],
   "source": [
    "df10['area_type'].value_counts()"
   ]
  },
  {
   "cell_type": "code",
   "execution_count": null,
   "metadata": {
    "colab": {
     "base_uri": "https://localhost:8080/"
    },
    "colab_type": "code",
    "executionInfo": {
     "elapsed": 21334,
     "status": "ok",
     "timestamp": 1593086718438,
     "user": {
      "displayName": "indian ai production",
      "photoUrl": "",
      "userId": "05336710603640792650"
     },
     "user_tz": -330
    },
    "id": "3Rc6zRW63lYD",
    "outputId": "de89b283-1a88-4829-d0ce-44c664699af8"
   },
   "outputs": [],
   "source": [
    "df11 = df10.copy()\n",
    "# appy Ohe-Hot  encoding on 'area_type' feature\n",
    "for cat_var in [\"Super built-up  Area\",\"Built-up  Area\",\"Plot  Area\"]:\n",
    "  df11[\"area_type\"+cat_var] = np.where(df11['area_type']==cat_var, 1,0)\n",
    "df11.shape      # this was only name areatype + car_var"
   ]
  },
  {
   "cell_type": "code",
   "execution_count": null,
   "metadata": {
    "colab": {
     "base_uri": "https://localhost:8080/"
    },
    "colab_type": "code",
    "executionInfo": {
     "elapsed": 21320,
     "status": "ok",
     "timestamp": 1593086718441,
     "user": {
      "displayName": "indian ai production",
      "photoUrl": "",
      "userId": "05336710603640792650"
     },
     "user_tz": -330
    },
    "id": "dtqGj98kapL7",
    "outputId": "c820a106-91ee-4c20-ad39-cbdacdf621b9"
   },
   "outputs": [],
   "source": [
    "df11.head(2)"
   ]
  },
  {
   "cell_type": "code",
   "execution_count": null,
   "metadata": {},
   "outputs": [],
   "source": [
    "df11.info()"
   ]
  },
  {
   "cell_type": "markdown",
   "metadata": {
    "colab_type": "text",
    "id": "Y2fnJEDtbpgd"
   },
   "source": [
    "# Working on <<<< Location >>>> feature"
   ]
  },
  {
   "cell_type": "code",
   "execution_count": null,
   "metadata": {
    "colab": {
     "base_uri": "https://localhost:8080/"
    },
    "colab_type": "code",
    "executionInfo": {
     "elapsed": 21268,
     "status": "ok",
     "timestamp": 1593086718446,
     "user": {
      "displayName": "indian ai production",
      "photoUrl": "",
      "userId": "05336710603640792650"
     },
     "user_tz": -330
    },
    "id": "yPzFM1oLbdgq",
    "outputId": "ecee8444-e17e-4210-84ae-6441bea43086"
   },
   "outputs": [],
   "source": [
    "location_value_count = df11['location'].value_counts()\n",
    "location_value_count"
   ]
  },
  {
   "cell_type": "code",
   "execution_count": null,
   "metadata": {
    "colab": {
     "base_uri": "https://localhost:8080/"
    },
    "colab_type": "code",
    "executionInfo": {
     "elapsed": 21252,
     "status": "ok",
     "timestamp": 1593086718447,
     "user": {
      "displayName": "indian ai production",
      "photoUrl": "",
      "userId": "05336710603640792650"
     },
     "user_tz": -330
    },
    "id": "kITj96Ygbuhy",
    "outputId": "2f0fe5f3-cfed-46f1-d016-4d53e8fbd971"
   },
   "outputs": [],
   "source": [
    "location_gert_20 = location_value_count[location_value_count>=20].index\n",
    "location_gert_20"
   ]
  },
  {
   "cell_type": "code",
   "execution_count": null,
   "metadata": {
    "colab": {
     "base_uri": "https://localhost:8080/"
    },
    "colab_type": "code",
    "executionInfo": {
     "elapsed": 21238,
     "status": "ok",
     "timestamp": 1593086718449,
     "user": {
      "displayName": "indian ai production",
      "photoUrl": "",
      "userId": "05336710603640792650"
     },
     "user_tz": -330
    },
    "id": "b006OZBQb7eB",
    "outputId": "0c0bf606-4dcc-4a65-f291-36be486d840d"
   },
   "outputs": [],
   "source": [
    "# location count is greter than 19 then we create column of that feature \n",
    "# then if this location present in location feature then set value 1 else 0 ( ohe hot encoding)\n",
    "df12 = df11.copy()\n",
    "for cat_var in location_gert_20:\n",
    "  df12['location_'+cat_var]=np.where(df12['location']==cat_var, 1,0)\n",
    "df12.shape"
   ]
  },
  {
   "cell_type": "code",
   "execution_count": null,
   "metadata": {
    "colab": {
     "base_uri": "https://localhost:8080/"
    },
    "colab_type": "code",
    "executionInfo": {
     "elapsed": 21228,
     "status": "ok",
     "timestamp": 1593086718451,
     "user": {
      "displayName": "indian ai production",
      "photoUrl": "",
      "userId": "05336710603640792650"
     },
     "user_tz": -330
    },
    "id": "VaWXj_SmcYxK",
    "outputId": "26ea4c3e-a9e0-424e-94e8-8b4cb81ea90b"
   },
   "outputs": [],
   "source": [
    "df12.head()"
   ]
  },
  {
   "cell_type": "markdown",
   "metadata": {
    "colab_type": "text",
    "id": "ARI5vPzqcq7v"
   },
   "source": [
    "## Drop categorical variable"
   ]
  },
  {
   "cell_type": "code",
   "execution_count": null,
   "metadata": {
    "colab": {
     "base_uri": "https://localhost:8080/",
     "height": 34
    },
    "colab_type": "code",
    "executionInfo": {
     "elapsed": 21213,
     "status": "ok",
     "timestamp": 1593086718453,
     "user": {
      "displayName": "indian ai production",
      "photoUrl": "",
      "userId": "05336710603640792650"
     },
     "user_tz": -330
    },
    "id": "gHXOhOCbcfDC",
    "outputId": "80208e8c-60a8-49ac-e9f4-cf5f87b91075"
   },
   "outputs": [],
   "source": [
    "df13 = df12.drop([\"area_type\",'location'], axis =1)\n",
    "df13.shape"
   ]
  },
  {
   "cell_type": "code",
   "execution_count": null,
   "metadata": {},
   "outputs": [],
   "source": [
    "df13.info()"
   ]
  },
  {
   "cell_type": "code",
   "execution_count": null,
   "metadata": {
    "colab": {
     "base_uri": "https://localhost:8080/",
     "height": 258
    },
    "colab_type": "code",
    "executionInfo": {
     "elapsed": 21829,
     "status": "ok",
     "timestamp": 1593086719098,
     "user": {
      "displayName": "indian ai production",
      "photoUrl": "",
      "userId": "05336710603640792650"
     },
     "user_tz": -330
    },
    "id": "3AINHMMcdTEA",
    "outputId": "05fc942e-e3fe-4c05-b4bc-fac2f899ee43"
   },
   "outputs": [],
   "source": [
    "df13.head()"
   ]
  },
  {
   "cell_type": "code",
   "execution_count": null,
   "metadata": {
    "colab": {},
    "colab_type": "code",
    "id": "_qLhyrx3dA2Y"
   },
   "outputs": [],
   "source": [
    "df13.to_csv('data.csv', index=False) "
   ]
  },
  {
   "cell_type": "code",
   "execution_count": null,
   "metadata": {},
   "outputs": [],
   "source": []
  }
 ],
 "metadata": {
  "colab": {
   "authorship_tag": "ABX9TyNUIZ+Q0XOgcRugV17P0H8j",
   "name": "Data Preprocessing - Bangalore House Price Prediction.ipynb",
   "provenance": []
  },
  "kernelspec": {
   "display_name": "Python 3 (ipykernel)",
   "language": "python",
   "name": "python3"
  },
  "language_info": {
   "codemirror_mode": {
    "name": "ipython",
    "version": 3
   },
   "file_extension": ".py",
   "mimetype": "text/x-python",
   "name": "python",
   "nbconvert_exporter": "python",
   "pygments_lexer": "ipython3",
   "version": "3.12.1"
  }
 },
 "nbformat": 4,
 "nbformat_minor": 4
}
